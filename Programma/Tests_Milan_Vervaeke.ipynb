{
 "cells": [
  {
   "cell_type": "code",
   "execution_count": 4,
   "id": "5e193076",
   "metadata": {},
   "outputs": [],
   "source": [
    "#Start\n",
    "from Research import functions\n",
    "import time"
   ]
  },
  {
   "cell_type": "code",
   "execution_count": 2,
   "id": "cd4dc09e",
   "metadata": {},
   "outputs": [],
   "source": [
    "functions.move_inv(\"right\")"
   ]
  },
  {
   "cell_type": "code",
   "execution_count": 3,
   "id": "9299d733",
   "metadata": {},
   "outputs": [],
   "source": [
    "functions.shutdown()"
   ]
  },
  {
   "cell_type": "code",
   "execution_count": null,
   "id": "44641fc7",
   "metadata": {},
   "outputs": [],
   "source": [
    "from scipy.spatial.transform import Rotation as R\n",
    "import numpy as np\n",
    "\n",
    "print(np.around(R.from_euler('y', np.deg2rad(50)).as_matrix(), 3))"
   ]
  },
  {
   "cell_type": "code",
   "execution_count": 1,
   "id": "03da8d3f",
   "metadata": {},
   "outputs": [],
   "source": [
    "from reachy_sdk import ReachySDK\n",
    "from reachy_sdk.trajectory import goto\n",
    "from reachy_sdk.trajectory.interpolation import InterpolationMode\n",
    "\n",
    "reachy = ReachySDK(host='127.0.0.1')"
   ]
  },
  {
   "cell_type": "code",
   "execution_count": 2,
   "id": "0eca7815",
   "metadata": {},
   "outputs": [
    {
     "data": {
      "text/plain": [
       "array([[-0.93041691, -0.07393605, -0.35896772,  0.30971189],\n",
       "       [-0.35692519, -0.03965655,  0.93329083,  0.27420855],\n",
       "       [-0.08323926,  0.99647419,  0.01050748, -0.1504515 ],\n",
       "       [ 0.        ,  0.        ,  0.        ,  1.        ]])"
      ]
     },
     "execution_count": 2,
     "metadata": {},
     "output_type": "execute_result"
    }
   ],
   "source": [
    "import time\n",
    "time.sleep(7)\n",
    "reachy.l_arm.forward_kinematics()"
   ]
  },
  {
   "cell_type": "code",
   "execution_count": null,
   "id": "dfecf8ca",
   "metadata": {},
   "outputs": [],
   "source": [
    "import numpy as np\n",
    "A = np.array([\n",
    "    [-0.27439431, -0.1039175 , -0.95598584,  0.43870858],\n",
    "       [-0.96111198,  0.06186045,  0.2691413 ,  0.17362613],\n",
    "       [ 0.03116922,  0.99266028, -0.11685051, -0.25943446],\n",
    "       [ 0.        ,  0.        ,  0.        ,  1.        ]\n",
    "])\n",
    "\n",
    "joint_pos_A = reachy.l_arm.inverse_kinematics(A)\n",
    "\n",
    "reachy.turn_on('l_arm')\n",
    "goto({joint: pos for joint,pos in zip(reachy.l_arm.joints.values(), joint_pos_A)}, duration=1.0)\n",
    "time.sleep(1)\n",
    "reachy.turn_off_smoothly('l_arm')"
   ]
  },
  {
   "cell_type": "code",
   "execution_count": null,
   "id": "6a588588",
   "metadata": {},
   "outputs": [],
   "source": [
    "import time\n",
    "# put the joints in stiff mode\n",
    "reachy.turn_on('r_arm')\n",
    "while 1:\n",
    "    # use the goto function\n",
    "    goto({joint: pos for joint,pos in zip(reachy.r_arm.joints.values(), joint_pos_A)}, duration=1.0)\n",
    "    time.sleep(0.5)\n",
    "    goto({joint: pos for joint,pos in zip(reachy.r_arm.joints.values(), joint_pos_B)}, duration=1.0)\n",
    "    time.sleep(0.5)\n",
    "    goto({joint: pos for joint,pos in zip(reachy.r_arm.joints.values(), joint_pos_C)}, duration=1.0)\n",
    "    time.sleep(0.5)\n",
    "    goto({joint: pos for joint,pos in zip(reachy.r_arm.joints.values(), joint_pos_D)}, duration=1.0)\n",
    "\n",
    "# put the joints back to compliant mode\n",
    "# use turn_off_smoothly to prevent the arm from falling hard\n",
    "reachy.turn_off_smoothly('r_arm')"
   ]
  },
  {
   "cell_type": "code",
   "execution_count": null,
   "id": "1b37ba76",
   "metadata": {},
   "outputs": [],
   "source": []
  },
  {
   "cell_type": "code",
   "execution_count": null,
   "id": "485666d3",
   "metadata": {},
   "outputs": [],
   "source": [
    "#Turn off\n",
    "def shutdown():\n",
    "    reachy.turn_off('head')\n",
    "    reachy.turn_off_smoothly('r_arm')\n",
    "    reachy.turn_off_smoothly('l_arm')    "
   ]
  },
  {
   "cell_type": "code",
   "execution_count": null,
   "id": "1bc21f1d",
   "metadata": {},
   "outputs": [],
   "source": [
    "shutdown()"
   ]
  },
  {
   "cell_type": "code",
   "execution_count": null,
   "id": "478caaaa",
   "metadata": {},
   "outputs": [],
   "source": [
    "#VARIABLES\n",
    "r_gripper = 0\n",
    "l_gripper = 0\n",
    "\n",
    "l_shoulder_p = 0\n",
    "l_shoulder_r = 30\n",
    "l_arm_y = -40\n",
    "l_elbow_p = -90\n",
    "l_forearm_y = -90\n",
    "l_wrist_p = -20    \n",
    "l_wrist_r = 40   \n",
    "\n",
    "r_shoulder_p = 0\n",
    "r_shoulder_r = -30\n",
    "r_arm_y = 40\n",
    "r_elbow_p = -90\n",
    "r_forearm_y = 90\n",
    "r_wrist_p = -20    \n",
    "r_wrist_r = -40    "
   ]
  },
  {
   "cell_type": "code",
   "execution_count": null,
   "id": "801b0359",
   "metadata": {},
   "outputs": [],
   "source": [
    "#rest left arm\n",
    "def rest_l():\n",
    "    reachy.turn_off_smoothly('l_arm') "
   ]
  },
  {
   "cell_type": "code",
   "execution_count": null,
   "id": "ad093d94",
   "metadata": {},
   "outputs": [],
   "source": [
    "#rest right arm\n",
    "def rest_r():\n",
    "    reachy.turn_off_smoothly('r_arm') "
   ]
  },
  {
   "cell_type": "code",
   "execution_count": null,
   "id": "20958fe8",
   "metadata": {},
   "outputs": [],
   "source": [
    "#Move left arm\n",
    "def move_l_arm(pos):\n",
    "    reachy.turn_on('l_arm')\n",
    "    move(pos)"
   ]
  },
  {
   "cell_type": "code",
   "execution_count": null,
   "id": "31e4b377",
   "metadata": {},
   "outputs": [],
   "source": [
    "#Move right arm\n",
    "def move_r_arm(pos):\n",
    "    reachy.turn_on('r_arm')\n",
    "    move(pos)"
   ]
  },
  {
   "cell_type": "code",
   "execution_count": null,
   "id": "25d92f7a",
   "metadata": {},
   "outputs": [],
   "source": [
    "def move(pos):\n",
    "    goto(\n",
    "        goal_positions=pos,\n",
    "        duration=1.0,\n",
    "        interpolation_mode=InterpolationMode.MINIMUM_JERK\n",
    "        )"
   ]
  },
  {
   "cell_type": "code",
   "execution_count": null,
   "id": "7f1a79b3",
   "metadata": {
    "scrolled": true
   },
   "outputs": [],
   "source": [
    "#move gripper\n",
    "def move_l_hand(value):\n",
    "    if(value=='open'): value = 20\n",
    "    if(value=='close'): value = -20\n",
    "    l_gripper = value\n",
    "    reachy.turn_on('l_arm')\n",
    "    gripper = {\n",
    "        reachy.l_arm.l_gripper: l_gripper #(-20 --> CLOSE / 20 --> OPEN)\n",
    "    }\n",
    "    move(gripper)"
   ]
  },
  {
   "cell_type": "code",
   "execution_count": null,
   "id": "ab15c9c1",
   "metadata": {},
   "outputs": [],
   "source": [
    "#move gripper\n",
    "def move_r_hand(value):\n",
    "    if(value=='open'): value = 20\n",
    "    if(value=='close'): value = -20\n",
    "    r_gripper = value\n",
    "    print(r_gripper)\n",
    "    reachy.turn_on('r_arm')\n",
    "    gripper = {\n",
    "        reachy.r_arm.r_gripper: r_gripper #(-20 --> CLOSE / 20 --> OPEN)\n",
    "    }\n",
    "    goto(\n",
    "        goal_positions=gripper,\n",
    "        duration=1.0,\n",
    "        interpolation_mode=InterpolationMode.MINIMUM_JERK\n",
    "        )"
   ]
  },
  {
   "cell_type": "code",
   "execution_count": null,
   "id": "855c4c45",
   "metadata": {},
   "outputs": [],
   "source": [
    "#Hand + arm to desired pos for project\n",
    "def adjust_l_pos():\n",
    "    left_angled_position = {\n",
    "    reachy.l_arm.l_shoulder_pitch: l_shoulder_p,\n",
    "    reachy.l_arm.l_shoulder_roll: l_shoulder_r,\n",
    "    reachy.l_arm.l_arm_yaw: l_arm_y,\n",
    "    reachy.l_arm.l_elbow_pitch: l_elbow_p,\n",
    "    reachy.l_arm.l_forearm_yaw: l_forearm_y,\n",
    "    reachy.l_arm.l_wrist_pitch: l_wrist_p,\n",
    "    reachy.l_arm.l_wrist_roll: l_wrist_r,\n",
    "    }\n",
    "    move_l_hand(l_gripper)\n",
    "    move_l_arm(left_angled_position)"
   ]
  },
  {
   "cell_type": "code",
   "execution_count": null,
   "id": "3d039d96",
   "metadata": {},
   "outputs": [],
   "source": [
    "adjust_l_pos()"
   ]
  },
  {
   "cell_type": "code",
   "execution_count": null,
   "id": "ec7755c3",
   "metadata": {},
   "outputs": [],
   "source": [
    "reachy.r_arm.forward_kinematics()"
   ]
  },
  {
   "cell_type": "code",
   "execution_count": null,
   "id": "1041778b",
   "metadata": {},
   "outputs": [],
   "source": [
    "def adjust_r_pos():\n",
    "    right_angled_position = {\n",
    "        reachy.r_arm.r_shoulder_pitch: r_shoulder_p,\n",
    "        reachy.r_arm.r_shoulder_roll: r_shoulder_r,\n",
    "        reachy.r_arm.r_arm_yaw: r_arm_y,\n",
    "        reachy.r_arm.r_elbow_pitch: r_elbow_p,\n",
    "        reachy.r_arm.r_forearm_yaw: r_forearm_y,\n",
    "        reachy.r_arm.r_wrist_pitch: r_wrist_p,\n",
    "        reachy.r_arm.r_wrist_roll: r_wrist_r,\n",
    "    }\n",
    "    #print(r_gripper)\n",
    "    move_r_hand(r_gripper)\n",
    "    move_r_arm(right_angled_position)"
   ]
  },
  {
   "cell_type": "code",
   "execution_count": null,
   "id": "a03b5228",
   "metadata": {},
   "outputs": [],
   "source": [
    "adjust_r_pos()"
   ]
  },
  {
   "cell_type": "code",
   "execution_count": null,
   "id": "fe094d9d",
   "metadata": {},
   "outputs": [],
   "source": [
    "time.sleep(3)"
   ]
  },
  {
   "cell_type": "code",
   "execution_count": null,
   "id": "f8b43de1",
   "metadata": {},
   "outputs": [],
   "source": [
    "adjust_l_pos()\n",
    "adjust_r_pos()\n",
    "\n",
    "posit = [20,-20,20,-20,20,-20]\n",
    "gripper_pos = [0,-20,0,-20,0,-20]\n",
    "elbow_pos = [-90,-45,-90,-45,-90, -45]\n",
    "wrist_pos = [20,-20,20,-20,20,-20]\n",
    "i=0\n",
    "for pos in posit:\n",
    "    r_gripper = -gripper_pos[i]\n",
    "    r_arm_y+=pos\n",
    "    r_elbow_p = elbow_pos[i]\n",
    "    r_wrist_p = -wrist_pos[i]\n",
    "    adjust_r_pos()\n",
    "    time.sleep(0.5)\n",
    "    i+=1\n",
    "time.sleep(1)\n",
    "rest_r()\n",
    "rest_l()"
   ]
  },
  {
   "cell_type": "code",
   "execution_count": null,
   "id": "ef783e62",
   "metadata": {},
   "outputs": [],
   "source": [
    "#threading?\n",
    "#def twitch():\n",
    "    #move arms instead of holding them still"
   ]
  },
  {
   "cell_type": "code",
   "execution_count": null,
   "id": "04813757",
   "metadata": {},
   "outputs": [],
   "source": [
    "#rest arms\n",
    "rest_r()\n",
    "rest_l()"
   ]
  },
  {
   "cell_type": "code",
   "execution_count": null,
   "id": "ac2451e7",
   "metadata": {},
   "outputs": [],
   "source": [
    "import face_recognition as fr\n",
    "import cv2\n",
    "\n",
    "def get_player_amount():\n",
    "  video_capture = reachy.left_camera\n",
    "  frame = video_capture.last_frame\n",
    "  rgb_frame = frame[:, :, ::-1]\n",
    "  face_locations = fr.face_locations(rgb_frame)\n",
    "  return(len(face_locations))"
   ]
  },
  {
   "cell_type": "code",
   "execution_count": null,
   "id": "a787a8e6",
   "metadata": {},
   "outputs": [],
   "source": [
    "variable = get_player_amount()\n",
    "print(variable)"
   ]
  },
  {
   "cell_type": "code",
   "execution_count": null,
   "id": "633d4e0b",
   "metadata": {},
   "outputs": [],
   "source": [
    "video_capture = cv2.VideoCapture()\n",
    "print(video_capture)"
   ]
  },
  {
   "cell_type": "code",
   "execution_count": null,
   "id": "26cbff0e",
   "metadata": {},
   "outputs": [],
   "source": [
    "reachy_audio = reachyAudio.ReachyAudio()"
   ]
  },
  {
   "cell_type": "code",
   "execution_count": null,
   "id": "e2dbc0d5",
   "metadata": {},
   "outputs": [],
   "source": [
    "reachy_audio.speak(\"see you later aligator\")"
   ]
  },
  {
   "cell_type": "code",
   "execution_count": null,
   "id": "072a08ec",
   "metadata": {},
   "outputs": [],
   "source": [
    "def speak(text):\n",
    "    tts = gTTS(text)\n",
    "    tts.save('voiceToAlter.mp3')\n",
    "    sound = AudioSegment.from_mp3('voiceToAlter.mp3')\n",
    "    sound.export('voiceToAlter.wav', format='wav')\n",
    "\n",
    "    # Alter the previously created audio file\n",
    "    #outputFileName = self.diodeRingModulator('voiceToAlter.wav')\n",
    "\n",
    "    # Play the altered audio file\n",
    "    reachyAudioPlayerRecorderObject.playAudio('voiceToAlter.wav')\n",
    "    time.sleep(0.5)"
   ]
  },
  {
   "cell_type": "code",
   "execution_count": null,
   "id": "ec5ce68c",
   "metadata": {},
   "outputs": [],
   "source": [
    "def playAudio(self, wavFileName):\n",
    "        \"\"\"Play a WAV file.\n",
    "\n",
    "        :param wavFileName: Name of the WAV file to play.\n",
    "        \"\"\"\n",
    "        try:\n",
    "            # Open the wav file\n",
    "            wf = wave.open(wavFileName, 'rb')\n",
    "\n",
    "            # Create the PyAudio object and open the PyAudio stream\n",
    "            p = pyaudio.PyAudio()\n",
    "            stream = p.open(format=p.get_format_from_width(wf.getsampwidth()),\n",
    "                            channels=wf.getnchannels(),\n",
    "                            rate=wf.getframerate(),\n",
    "                            output=True)\n",
    "\n",
    "            # Read the wav file until his end\n",
    "            data = wf.readframes(self.chunk)\n",
    "\n",
    "            while data != b'':\n",
    "                stream.write(data)\n",
    "                data = wf.readframes(self.chunk)\n",
    "\n",
    "            # Terminate and close all the processes\n",
    "            stream.stop_stream()\n",
    "            stream.close()\n",
    "\n",
    "            p.terminate()\n",
    "\n",
    "            wf.close()\n",
    "\n",
    "        except Exception as e:\n",
    "            print(\"Exception: \" + str(e))\n"
   ]
  },
  {
   "cell_type": "code",
   "execution_count": null,
   "id": "b684f817",
   "metadata": {},
   "outputs": [],
   "source": [
    "said = reachy_audio.recognizeSpeech()\n",
    "reachy_audio.speak(\"Hello there, my name is reachy.\")"
   ]
  },
  {
   "cell_type": "code",
   "execution_count": null,
   "id": "3120d871",
   "metadata": {},
   "outputs": [],
   "source": [
    "def adjust_head():\n",
    "    head_position = {\n",
    "        reachy.head.joints.l_antenna: -0.50,\n",
    "        reachy.head.joints.r_antenna: -1.50,\n",
    "        reachy.head.joints.neck_disk_top: -54.72,\n",
    "        reachy.head.joints.neck_disk_middle: -69.77,\n",
    "        reachy.head.joints.neck_disk_bottom: -54.11,\n",
    "    }\n",
    "    move(head_position)"
   ]
  },
  {
   "cell_type": "code",
   "execution_count": null,
   "id": "e5d69554",
   "metadata": {},
   "outputs": [],
   "source": [
    "reachy.turn_on('head')\n",
    "adjust_head()"
   ]
  },
  {
   "cell_type": "code",
   "execution_count": null,
   "id": "e4b04371",
   "metadata": {},
   "outputs": [],
   "source": [
    "antenna_positions = [-100, -130, -100, -130, -100, -130]"
   ]
  },
  {
   "cell_type": "code",
   "execution_count": null,
   "id": "5c5917b5",
   "metadata": {},
   "outputs": [],
   "source": [
    "reachy.turn_on('head')\n",
    "for pos in antenna_positions:\n",
    "    reachy.head.l_antenna.goal_position = pos\n",
    "    time.sleep(0.5)"
   ]
  },
  {
   "cell_type": "code",
   "execution_count": null,
   "id": "fa15ae7b",
   "metadata": {},
   "outputs": [],
   "source": [
    "shutdown()"
   ]
  }
 ],
 "metadata": {
  "kernelspec": {
   "display_name": "Python 3 (ipykernel)",
   "language": "python",
   "name": "python3"
  },
  "language_info": {
   "codemirror_mode": {
    "name": "ipython",
    "version": 3
   },
   "file_extension": ".py",
   "mimetype": "text/x-python",
   "name": "python",
   "nbconvert_exporter": "python",
   "pygments_lexer": "ipython3",
   "version": "3.8.10"
  }
 },
 "nbformat": 4,
 "nbformat_minor": 5
}
